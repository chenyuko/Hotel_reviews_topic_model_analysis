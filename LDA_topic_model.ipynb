{
 "cells": [
  {
   "cell_type": "code",
   "execution_count": 1,
   "metadata": {},
   "outputs": [
    {
     "name": "stderr",
     "output_type": "stream",
     "text": [
      "/Users/yoyo/opt/anaconda3/lib/python3.8/site-packages/scipy/sparse/sparsetools.py:21: DeprecationWarning: `scipy.sparse.sparsetools` is deprecated!\n",
      "scipy.sparse.sparsetools is a private module for scipy.sparse, and should not be used.\n",
      "  _deprecated()\n"
     ]
    }
   ],
   "source": [
    "import pandas as pd\n",
    "import numpy as np\n",
    "import nltk\n",
    "from nltk.corpus import stopwords\n",
    "from nltk.stem.porter import PorterStemmer\n",
    "import re\n",
    "import pickle,string\n",
    "from sklearn.feature_extraction.text import TfidfVectorizer,CountVectorizer\n",
    "from sklearn.decomposition import LatentDirichletAllocation\n",
    "import pyLDAvis\n",
    "import pyLDAvis.gensim\n",
    "import pyLDAvis.sklearn\n",
    "import gensim\n",
    "\n",
    "import matplotlib.pyplot as plt\n",
    "import logging\n",
    "logging.basicConfig(format='%(asctime)s : %(levelname)s : %(message)s', level=logging.ERROR)\n",
    "import warnings\n",
    "warnings.filterwarnings(\"ignore\",category=DeprecationWarning)"
   ]
  },
  {
   "cell_type": "code",
   "execution_count": 52,
   "metadata": {},
   "outputs": [],
   "source": [
    "df=pd.read_csv('Clean_Hotel_Reviews_tfidf_remove_sampled.csv')\n",
    "#df.to_excel(\"Clean_Hotel_Reviews_tfidf_remove_sampled.xlsx\",sheet_name='Sheet_name_1') "
   ]
  },
  {
   "cell_type": "code",
   "execution_count": 53,
   "metadata": {},
   "outputs": [
    {
     "data": {
      "text/plain": [
       "<AxesSubplot:>"
      ]
     },
     "execution_count": 53,
     "metadata": {},
     "output_type": "execute_result"
    },
    {
     "data": {
      "image/png": "[encoded data removed]",
      "text/plain": [
       "<Figure size 432x288 with 1 Axes>"
      ]
     },
     "metadata": {
      "needs_background": "light"
     },
     "output_type": "display_data"
    }
   ],
   "source": [
    "df['Reviewer_Score'].hist()"
   ]
  },
  {
   "cell_type": "code",
   "execution_count": 54,
   "metadata": {},
   "outputs": [],
   "source": [
    "def clean_text(text):\n",
    "    if ((text=='No Positive')| ( text=='No Negative')):\n",
    "        return np.nan\n",
    "    else:\n",
    "        text=str(text).lower()\n",
    "        tokens=nltk.word_tokenize(text)\n",
    "        tokens_clean=[tok for tok in tokens if tok not in stopwords.words('english') and tok.isdigit()==False and tok not in string.punctuation]\n",
    "        clean_text=' '.join(tokens_clean)\n",
    "        clean_text=re.sub('\\d+','',clean_text)\n",
    "        return clean_text\n",
    "    \n",
    "def build_model(bag_of_words):\n",
    "    lda_model = LatentDirichletAllocation(n_components=6, # Number of topics\n",
    "                                      learning_method='online',\n",
    "                                      random_state=0,       \n",
    "                                      n_jobs = -1  # Use all available CPUs\n",
    "                                     )\n",
    "    lda_output = lda_model.fit_transform(bag_of_words)\n",
    "    return lda_model,lda_output\n"
   ]
  },
  {
   "cell_type": "code",
   "execution_count": 56,
   "metadata": {},
   "outputs": [],
   "source": [
    "df['Negative_Review_clean']=df['Negative_Review'].apply(clean_text)\n",
    "review_neg_df=df[['Negative_Review_clean']].reset_index().dropna()\n",
    "cnt_vect_neg=CountVectorizer(stop_words='english').fit(review_neg_df['Negative_Review_clean'])\n",
    "bag_of_words_neg = cnt_vect_neg.transform(review_neg_df['Negative_Review_clean'])\n",
    "id2token_neg={i:v for i,v in enumerate(cnt_vect_neg.get_feature_names())}\n",
    "lda_model_neg,lda_output_neg = build_model(bag_of_words_neg)"
   ]
  },
  {
   "cell_type": "code",
   "execution_count": 64,
   "metadata": {},
   "outputs": [
    {
     "name": "stdout",
     "output_type": "stream",
     "text": [
      "Topic 1:food, bar, paid, good, expensive, star, money, price, hotel, breakfast\n",
      "Topic 2:tiny, cold, location, hot, air, water, poor, shower, service, room\n",
      "Topic 3:booked, rude, asked, work, told, booking, check, reception, staff, room\n",
      "Topic 4:need, better, really, door, stay, like, old, night, bed, hotel\n",
      "Topic 5:tv, card, experience, stayed, wifi, time, dirty, day, bad, staff\n",
      "Topic 6:clean, window, noise, double, floor, bathroom, nan, rooms, small, room\n"
     ]
    }
   ],
   "source": [
    "def show_topics(lda_model,id2token):\n",
    "    for topic_idx,topic in enumerate(lda_model.components_):\n",
    "        top_n=np.argsort(topic)[-10:]\n",
    "        top_n_word=[id2token[i] for i in top_n]\n",
    "        print('Topic '+str(topic_idx+1)+':'+', '.join(top_n_word))\n",
    "\n",
    "show_topics(lda_model_neg,id2token_neg)"
   ]
  },
  {
   "cell_type": "code",
   "execution_count": 65,
   "metadata": {},
   "outputs": [],
   "source": [
    "topic_theme_neg=['food/bar/paid/expensive(price)','tiny/cold/location/hot(facility)','booked/rude/asked/booking(booking service)',\n",
    "             'need/door/stay/old(room)','tv/card/wifi/time(facility)','clean/window/noise/floor(room comfort)']\n",
    "topic_dict_neg=dict(enumerate(topic_theme_neg))\n"
   ]
  },
  {
   "cell_type": "code",
   "execution_count": 66,
   "metadata": {},
   "outputs": [],
   "source": [
    "def assign_rev_topic(lda_output,topic_dict,review_pos_df):\n",
    "    lda_df=pd.DataFrame(np.argmax(lda_output,axis=1),columns=['Topic'])\n",
    "    lda_df['Theme']=lda_df['Topic'].apply(lambda x: topic_dict[x])\n",
    "    df_hotel_topic=df[['Hotel_Name','Reviewer_Score']].merge(pd.concat([review_pos_df.reset_index(drop=True),lda_df.reset_index(drop=True)],axis=1),left_index=True,right_on='index')\n",
    "    return df_hotel_topic\n",
    "df_hotel_topic_neg=assign_rev_topic(lda_output_neg,topic_dict_neg,review_neg_df)"
   ]
  },
  {
   "cell_type": "code",
   "execution_count": 69,
   "metadata": {},
   "outputs": [],
   "source": [
    "#save avg score of all negative reviews\n",
    "df_hotel_topic_neg.groupby('Theme').mean()['Reviewer_Score'].reset_index().to_excel('neg_Theme_avgscore.xlsx')\n",
    "#(df_hotel_topic_neg.groupby('Theme').count()['Hotel_Name']/df_hotel_topic_neg.shape[0]).reset_index().to_excel('neg_Theme_pct.xlsx')"
   ]
  },
  {
   "cell_type": "code",
   "execution_count": 70,
   "metadata": {},
   "outputs": [],
   "source": [
    "df_hotel_topic_neg.to_excel('df_hotel_topic_neg.xlsx') "
   ]
  },
  {
   "cell_type": "code",
   "execution_count": 72,
   "metadata": {},
   "outputs": [],
   "source": [
    "new_df=pd.read_excel('df_hotel_topic_neg.xlsx',index_col=1)"
   ]
  },
  {
   "cell_type": "code",
   "execution_count": 198,
   "metadata": {},
   "outputs": [],
   "source": [
    "g=new_df.groupby('Hotel_Name')\n",
    "rev_by_hotel_neg=g['Negative_Review_clean'].agg(lambda x : ' '.join([i for i in x if type(i)!=float]))\n",
    "tfidf_vec_hotel_neg=TfidfVectorizer(stop_words='english') \n",
    "tfidf_by_hotel_neg=tfidf_vec_hotel_neg.fit_transform(rev_by_hotel_neg)"
   ]
  },
  {
   "cell_type": "code",
   "execution_count": 199,
   "metadata": {},
   "outputs": [],
   "source": [
    "kw_by_hotel_neg = pd.DataFrame(tfidf_by_hotel_neg.toarray()).apply(lambda x: np.array(list(tfidf_vec_hotel_neg.vocabulary_.keys()))[np.argsort(x)[-10:][::-1]],axis=1)"
   ]
  },
  {
   "cell_type": "code",
   "execution_count": 200,
   "metadata": {},
   "outputs": [],
   "source": [
    "all_hotels_kw=pd.DataFrame()\n",
    "for i,hotel_info in enumerate(g):\n",
    "    hotel=hotel_info[0]\n",
    "    all_hotels_kw=pd.concat([all_hotels_kw,pd.DataFrame([[hotel,', '.join(kw_by_hotel_neg[i])]])],axis=0)\n",
    "all_hotels_kw.columns=['hotel','keywords']    \n",
    "all_hotels_kw.to_excel('hotels_kw.xlsx')    "
   ]
  },
  {
   "cell_type": "code",
   "execution_count": 201,
   "metadata": {},
   "outputs": [
    {
     "data": {
      "text/html": [
       "<div>\n",
       "<style scoped>\n",
       "    .dataframe tbody tr th:only-of-type {\n",
       "        vertical-align: middle;\n",
       "    }\n",
       "\n",
       "    .dataframe tbody tr th {\n",
       "        vertical-align: top;\n",
       "    }\n",
       "\n",
       "    .dataframe thead th {\n",
       "        text-align: right;\n",
       "    }\n",
       "</style>\n",
       "<table border=\"1\" class=\"dataframe\">\n",
       "  <thead>\n",
       "    <tr style=\"text-align: right;\">\n",
       "      <th></th>\n",
       "      <th>hotel</th>\n",
       "      <th>keywords</th>\n",
       "    </tr>\n",
       "  </thead>\n",
       "  <tbody>\n",
       "    <tr>\n",
       "      <th>0</th>\n",
       "      <td>11 Cadogan Gardens</td>\n",
       "      <td>billes, doshaih, blackmailed, deliver, tricky,...</td>\n",
       "    </tr>\n",
       "    <tr>\n",
       "      <th>0</th>\n",
       "      <td>1K Hotel</td>\n",
       "      <td>cockrouches, evened, officer, citizen, doshaih...</td>\n",
       "    </tr>\n",
       "    <tr>\n",
       "      <th>0</th>\n",
       "      <td>25hours Hotel beim MuseumsQuartier</td>\n",
       "      <td>doshaih, citizen, caravans, liquor, british, s...</td>\n",
       "    </tr>\n",
       "    <tr>\n",
       "      <th>0</th>\n",
       "      <td>41</td>\n",
       "      <td>chilli, citizen, excellence, diy, discretely, ...</td>\n",
       "    </tr>\n",
       "    <tr>\n",
       "      <th>0</th>\n",
       "      <td>45 Park Lane Dorchester Collection</td>\n",
       "      <td>pentahotel, tomatoes, disposed, irregularity, ...</td>\n",
       "    </tr>\n",
       "  </tbody>\n",
       "</table>\n",
       "</div>"
      ],
      "text/plain": [
       "                                hotel  \\\n",
       "0                  11 Cadogan Gardens   \n",
       "0                            1K Hotel   \n",
       "0  25hours Hotel beim MuseumsQuartier   \n",
       "0                                  41   \n",
       "0  45 Park Lane Dorchester Collection   \n",
       "\n",
       "                                            keywords  \n",
       "0  billes, doshaih, blackmailed, deliver, tricky,...  \n",
       "0  cockrouches, evened, officer, citizen, doshaih...  \n",
       "0  doshaih, citizen, caravans, liquor, british, s...  \n",
       "0  chilli, citizen, excellence, diy, discretely, ...  \n",
       "0  pentahotel, tomatoes, disposed, irregularity, ...  "
      ]
     },
     "execution_count": 201,
     "metadata": {},
     "output_type": "execute_result"
    }
   ],
   "source": [
    "all_hotels_kw.head()"
   ]
  },
  {
   "cell_type": "code",
   "execution_count": 202,
   "metadata": {},
   "outputs": [
    {
     "data": {
      "text/html": [
       "<div>\n",
       "<style scoped>\n",
       "    .dataframe tbody tr th:only-of-type {\n",
       "        vertical-align: middle;\n",
       "    }\n",
       "\n",
       "    .dataframe tbody tr th {\n",
       "        vertical-align: top;\n",
       "    }\n",
       "\n",
       "    .dataframe thead th {\n",
       "        text-align: right;\n",
       "    }\n",
       "</style>\n",
       "<table border=\"1\" class=\"dataframe\">\n",
       "  <thead>\n",
       "    <tr style=\"text-align: right;\">\n",
       "      <th></th>\n",
       "      <th>Negative_Review</th>\n",
       "    </tr>\n",
       "    <tr>\n",
       "      <th>topic</th>\n",
       "      <th></th>\n",
       "    </tr>\n",
       "  </thead>\n",
       "  <tbody>\n",
       "    <tr>\n",
       "      <th>food/bar/paid/expensive(price)</th>\n",
       "      <td>Their room prices were a bit steep Even that ...</td>\n",
       "    </tr>\n",
       "    <tr>\n",
       "      <th>food/bar/paid/expensive(price)</th>\n",
       "      <td>Breakfast should be included in the price wit...</td>\n",
       "    </tr>\n",
       "    <tr>\n",
       "      <th>food/bar/paid/expensive(price)</th>\n",
       "      <td>Mildly disappointed in the breakfast Pancakes...</td>\n",
       "    </tr>\n",
       "    <tr>\n",
       "      <th>food/bar/paid/expensive(price)</th>\n",
       "      <td>I didnt like that we had to pay 50 pounds in ...</td>\n",
       "    </tr>\n",
       "    <tr>\n",
       "      <th>food/bar/paid/expensive(price)</th>\n",
       "      <td>Expensive breakfast didn t feel like 5 hotel ...</td>\n",
       "    </tr>\n",
       "  </tbody>\n",
       "</table>\n",
       "</div>"
      ],
      "text/plain": [
       "                                                                  Negative_Review\n",
       "topic                                                                            \n",
       "food/bar/paid/expensive(price)   Their room prices were a bit steep Even that ...\n",
       "food/bar/paid/expensive(price)   Breakfast should be included in the price wit...\n",
       "food/bar/paid/expensive(price)   Mildly disappointed in the breakfast Pancakes...\n",
       "food/bar/paid/expensive(price)   I didnt like that we had to pay 50 pounds in ...\n",
       "food/bar/paid/expensive(price)   Expensive breakfast didn t feel like 5 hotel ..."
      ]
     },
     "execution_count": 202,
     "metadata": {},
     "output_type": "execute_result"
    }
   ],
   "source": [
    "topic_doc_sortid=pd.DataFrame(lda_output_neg).apply(lambda x:np.argsort(x)[::-1],axis=0)\n",
    "topic_doc_sortid=topic_doc_sortid.reset_index(drop=True)\n",
    "all_topic_rev=pd.DataFrame()\n",
    "for i,sort_id in topic_doc_sortid.T.iterrows():\n",
    "    reviews=pd.DataFrame(df['Negative_Review']).iloc[sort_id[:10],:]\n",
    "    reviews['topic']=topic_theme_neg[i]\n",
    "    all_topic_rev=all_topic_rev.append(reviews)\n",
    "all_topic_rev=pd.DataFrame(all_topic_rev).set_index('topic')\n",
    "all_topic_rev.to_excel('negative_topic_topreviews.xlsx')\n",
    "all_topic_rev.head()"
   ]
  }
 ],
 "metadata": {
  "kernelspec": {
   "display_name": "Python 3",
   "language": "python",
   "name": "python3"
  },
  "language_info": {
   "codemirror_mode": {
    "name": "ipython",
    "version": 3
   },
   "file_extension": ".py",
   "mimetype": "text/x-python",
   "name": "python",
   "nbconvert_exporter": "python",
   "pygments_lexer": "ipython3",
   "version": "3.8.5"
  }
 },
 "nbformat": 4,
 "nbformat_minor": 4
}
